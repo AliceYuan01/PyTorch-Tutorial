{
  "nbformat": 4,
  "nbformat_minor": 0,
  "metadata": {
    "colab": {
      "provenance": [],
      "include_colab_link": true
    },
    "kernelspec": {
      "name": "python3",
      "display_name": "Python 3"
    },
    "language_info": {
      "name": "python"
    }
  },
  "cells": [
    {
      "cell_type": "markdown",
      "metadata": {
        "id": "view-in-github",
        "colab_type": "text"
      },
      "source": [
        "<a href=\"https://colab.research.google.com/github/AliceYuan01/PyTorch-Tutorial/blob/main/Tensors.ipynb\" target=\"_parent\"><img src=\"https://colab.research.google.com/assets/colab-badge.svg\" alt=\"Open In Colab\"/></a>"
      ]
    },
    {
      "cell_type": "markdown",
      "source": [
        "# **TENSORS**\n",
        "\n",
        "*   A torch.Tensor is a multi-dimensional matrix containing elements of a single data type.\n",
        "\n",
        "*   Similar To Numpy Arrays, but full of fun things that make them work better on GPU's (vs regular CPU's).\n",
        "\n",
        "*  default data type of float32.\n",
        "\n",
        "* More suitable for deep learning than a numpy array.\n",
        "\n",
        "\n",
        "\n",
        "\n",
        "\n"
      ],
      "metadata": {
        "id": "SPuFeQGa_B9v"
      }
    },
    {
      "cell_type": "code",
      "source": [
        "import torch\n",
        "import numpy as np"
      ],
      "metadata": {
        "id": "9M7GniiD_HDg"
      },
      "execution_count": 1,
      "outputs": []
    },
    {
      "cell_type": "markdown",
      "source": [
        "# **LISTS**\n"
      ],
      "metadata": {
        "id": "lBRfw7H0Afv3"
      }
    },
    {
      "cell_type": "code",
      "source": [
        "my_list = [[1,2,3,4,5], [6,7,8,9,10]]\n",
        "my_list\n"
      ],
      "metadata": {
        "id": "QiHJf-taAhCF",
        "colab": {
          "base_uri": "https://localhost:8080/"
        },
        "outputId": "8811f22d-5cba-4650-c146-4a12d882114f"
      },
      "execution_count": 2,
      "outputs": [
        {
          "output_type": "execute_result",
          "data": {
            "text/plain": [
              "[[1, 2, 3, 4, 5], [6, 7, 8, 9, 10]]"
            ]
          },
          "metadata": {},
          "execution_count": 2
        }
      ]
    },
    {
      "cell_type": "markdown",
      "source": [
        "# **NUMPY ARRAYS**"
      ],
      "metadata": {
        "id": "K6xTiYlzAj6f"
      }
    },
    {
      "cell_type": "code",
      "source": [
        "np1 = np.random.rand(3,4)\n",
        "np1\n"
      ],
      "metadata": {
        "id": "zqUEpvzhAltl",
        "colab": {
          "base_uri": "https://localhost:8080/"
        },
        "outputId": "e6bbefc0-c569-4777-e90e-53bc478cec91"
      },
      "execution_count": 3,
      "outputs": [
        {
          "output_type": "execute_result",
          "data": {
            "text/plain": [
              "array([[0.98221121, 0.67358965, 0.99708423, 0.05728511],\n",
              "       [0.5692064 , 0.98155511, 0.52977484, 0.10624785],\n",
              "       [0.83363037, 0.77246261, 0.14511538, 0.60415102]])"
            ]
          },
          "metadata": {},
          "execution_count": 3
        }
      ]
    },
    {
      "cell_type": "code",
      "source": [
        "np1.dtype\n"
      ],
      "metadata": {
        "id": "53ypJQHuAnmd",
        "colab": {
          "base_uri": "https://localhost:8080/"
        },
        "outputId": "c3ba6958-d228-41c8-aa44-0c46293734f8"
      },
      "execution_count": 4,
      "outputs": [
        {
          "output_type": "execute_result",
          "data": {
            "text/plain": [
              "dtype('float64')"
            ]
          },
          "metadata": {},
          "execution_count": 4
        }
      ]
    },
    {
      "cell_type": "markdown",
      "source": [
        "# **TENSORS**"
      ],
      "metadata": {
        "id": "zcdsJIdKAoVP"
      }
    },
    {
      "cell_type": "code",
      "source": [
        "tensor_2d = torch.randn(3,4)\n",
        "tensor_2d\n",
        "#tensor_2d.dtype"
      ],
      "metadata": {
        "id": "Nscq13tnAqYU",
        "colab": {
          "base_uri": "https://localhost:8080/"
        },
        "outputId": "e33dd5dc-daf0-4f45-d647-25f80d8bf810"
      },
      "execution_count": 7,
      "outputs": [
        {
          "output_type": "execute_result",
          "data": {
            "text/plain": [
              "tensor([[ 1.7858,  0.8184,  0.1900, -0.3514],\n",
              "        [-0.3450, -0.8666,  0.4120, -0.2305],\n",
              "        [ 0.5937, -0.1173, -0.3396,  0.2528]])"
            ]
          },
          "metadata": {},
          "execution_count": 7
        }
      ]
    },
    {
      "cell_type": "code",
      "source": [
        "tensor_3d = torch.zeros(2,3,4)\n",
        "tensor_3d"
      ],
      "metadata": {
        "colab": {
          "base_uri": "https://localhost:8080/"
        },
        "id": "5JXqtHcqDd-s",
        "outputId": "4c761c3d-ce42-4484-8a3a-814837106192"
      },
      "execution_count": 8,
      "outputs": [
        {
          "output_type": "execute_result",
          "data": {
            "text/plain": [
              "tensor([[[0., 0., 0., 0.],\n",
              "         [0., 0., 0., 0.],\n",
              "         [0., 0., 0., 0.]],\n",
              "\n",
              "        [[0., 0., 0., 0.],\n",
              "         [0., 0., 0., 0.],\n",
              "         [0., 0., 0., 0.]]])"
            ]
          },
          "metadata": {},
          "execution_count": 8
        }
      ]
    },
    {
      "cell_type": "code",
      "source": [
        "## Create tensor out of numpy array\n",
        "my_tensor = torch.tensor(np1)\n",
        "my_tensor"
      ],
      "metadata": {
        "colab": {
          "base_uri": "https://localhost:8080/"
        },
        "id": "WdKNvryyDvmE",
        "outputId": "f5d3b620-b4fa-43c5-dff3-b04fa56c630e"
      },
      "execution_count": 9,
      "outputs": [
        {
          "output_type": "execute_result",
          "data": {
            "text/plain": [
              "tensor([[0.9822, 0.6736, 0.9971, 0.0573],\n",
              "        [0.5692, 0.9816, 0.5298, 0.1062],\n",
              "        [0.8336, 0.7725, 0.1451, 0.6042]], dtype=torch.float64)"
            ]
          },
          "metadata": {},
          "execution_count": 9
        }
      ]
    },
    {
      "cell_type": "code",
      "source": [],
      "metadata": {
        "id": "FdBvdjysD8gM"
      },
      "execution_count": null,
      "outputs": []
    }
  ]
}